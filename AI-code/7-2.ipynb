{
 "cells": [
  {
   "cell_type": "markdown",
   "metadata": {},
   "source": [
    "### 7~8장: 퍼셉트론 & 다층 퍼셉트론"
   ]
  },
  {
   "cell_type": "code",
   "execution_count": 2,
   "metadata": {},
   "outputs": [
    {
     "name": "stdout",
     "output_type": "stream",
     "text": [
      "입력값: (0, 0)출력값: 0\n",
      "입력값: (1, 0)출력값: 1\n",
      "입력값: (0, 1)출력값: 1\n",
      "입력값: (1, 1)출력값: 0\n"
     ]
    }
   ],
   "source": [
    "# 코딩으로 XOR 문제 해결하기\n",
    "\n",
    "import numpy as np\n",
    "\n",
    "# 정해진 가중치와 바이어스\n",
    "w11 = np.array([-2,-2])\n",
    "w12 = np.array([2,2])\n",
    "w2 = np.array([1,1])\n",
    "b1, b2, b3 = 3, -1, -1\n",
    "\n",
    "# 0과 1 중에서 값을 출력하게 설정하는 \"퍼셉트론 함수\"\n",
    "def MLP(x, w, b):\n",
    "    y = np.sum(w*x)+b\n",
    "    if y<=0:\n",
    "        return 0\n",
    "    else:\n",
    "        return 1\n",
    "\n",
    "# 각 게이트의 정의에 따라 NAND 게이트, OR 게이트, AND 게이트, XOR 게이트함수를 만들기\n",
    "## NAND게이트\n",
    "def NAND(x1, x2):\n",
    "    return MLP(np.array([x1,x2]), w11, b1)\n",
    "\n",
    "def OR(x1,x2):\n",
    "    return MLP(np.array([x1,x2]), w12, b2)\n",
    "\n",
    "def AND(x1,x2):\n",
    "    return MLP(np.array([x1,x2]), w2, b3)\n",
    "\n",
    "def XOR(x1,x2):\n",
    "    return AND(NAND(x1,x2), OR(x1,x2))\n",
    "\n",
    "# 이제 x1 값과 x2 값을 번갈아 대입해 가며 최종 값을 출력해 보자\n",
    "for x in [(0,0), (1,0), (0,1), (1,1)]:\n",
    "    y = XOR(x[0], x[1])\n",
    "    print(\"입력값: \" + str(x) + \"출력값: \" + str(y))\n"
   ]
  },
  {
   "cell_type": "markdown",
   "metadata": {},
   "source": [
    "### 9~10장: 오차 역전파에서 딥러닝으로 & 딥러닝 기본기 다지기1"
   ]
  },
  {
   "cell_type": "code",
   "execution_count": 4,
   "metadata": {},
   "outputs": [
    {
     "name": "stdout",
     "output_type": "stream",
     "text": [
      "Epoch 1/5\n"
     ]
    },
    {
     "name": "stderr",
     "output_type": "stream",
     "text": [
      "C:\\Users\\A\\AppData\\Local\\Packages\\PythonSoftwareFoundation.Python.3.11_qbz5n2kfra8p0\\LocalCache\\local-packages\\Python311\\site-packages\\keras\\src\\layers\\core\\dense.py:87: UserWarning: Do not pass an `input_shape`/`input_dim` argument to a layer. When using Sequential models, prefer using an `Input(shape)` object as the first layer in the model instead.\n",
      "  super().__init__(activity_regularizer=activity_regularizer, **kwargs)\n"
     ]
    },
    {
     "name": "stdout",
     "output_type": "stream",
     "text": [
      "\u001b[1m30/30\u001b[0m \u001b[32m━━━━━━━━━━━━━━━━━━━━\u001b[0m\u001b[37m\u001b[0m \u001b[1m1s\u001b[0m 1ms/step - accuracy: 0.1705 - loss: 7.7696    \n",
      "Epoch 2/5\n",
      "\u001b[1m30/30\u001b[0m \u001b[32m━━━━━━━━━━━━━━━━━━━━\u001b[0m\u001b[37m\u001b[0m \u001b[1m0s\u001b[0m 893us/step - accuracy: 0.8324 - loss: 0.6075\n",
      "Epoch 3/5\n",
      "\u001b[1m30/30\u001b[0m \u001b[32m━━━━━━━━━━━━━━━━━━━━\u001b[0m\u001b[37m\u001b[0m \u001b[1m0s\u001b[0m 958us/step - accuracy: 0.8537 - loss: 0.4637\n",
      "Epoch 4/5\n",
      "\u001b[1m30/30\u001b[0m \u001b[32m━━━━━━━━━━━━━━━━━━━━\u001b[0m\u001b[37m\u001b[0m \u001b[1m0s\u001b[0m 874us/step - accuracy: 0.8524 - loss: 0.4344\n",
      "Epoch 5/5\n",
      "\u001b[1m30/30\u001b[0m \u001b[32m━━━━━━━━━━━━━━━━━━━━\u001b[0m\u001b[37m\u001b[0m \u001b[1m0s\u001b[0m 936us/step - accuracy: 0.8545 - loss: 0.4251\n"
     ]
    }
   ],
   "source": [
    "# \"폐암 수술 환자의 생존율 예측하기\"의 딥러닝 기초 코드\n",
    "from tensorflow.keras.models import Sequential\n",
    "from tensorflow.keras.layers import Dense\n",
    "import numpy as np\n",
    "\n",
    "# 준비된 수술 환자 데이터를 load\n",
    "Data_set = np.loadtxt(\"./data/ThoraricSurgery3.csv\", delimiter=\",\")\n",
    "X = Data_set[:,0:16] # 환자의 진찰기록을 X로 지정\n",
    "y = Data_set[:,16] # 수술 1년 후 사망/생존 여부를 y로 지정\n",
    "\n",
    "# 딥러닝 모델의 구조를 결정\n",
    "model = Sequential()\n",
    "model.add(Dense(30, input_dim=16, activation=\"relu\"))\n",
    "model.add(Dense(1, activation=\"sigmoid\"))\n",
    "\n",
    "# 딥러닝 모델을 실행\n",
    "model.compile(loss=\"binary_crossentropy\", optimizer=\"adam\", metrics=[\"accuracy\"])\n",
    "history = model.fit(X, y, epochs=5, batch_size=16)"
   ]
  },
  {
   "cell_type": "markdown",
   "metadata": {},
   "source": [
    "### 11장: 딥러닝 기본기 다지기2"
   ]
  },
  {
   "cell_type": "code",
   "execution_count": 30,
   "metadata": {},
   "outputs": [
    {
     "data": {
      "text/plain": [
       "<Figure size 1200x1200 with 0 Axes>"
      ]
     },
     "execution_count": 30,
     "metadata": {},
     "output_type": "execute_result"
    },
    {
     "data": {
      "text/plain": [
       "<Figure size 1200x1200 with 0 Axes>"
      ]
     },
     "metadata": {},
     "output_type": "display_data"
    }
   ],
   "source": [
    "# 피마 인디언 데이터 분석\n",
    "## *1)피마 인디언 데이터 분석하기\n",
    "import pandas as pd\n",
    "import matplotlib.pyplot as plt\n",
    "import seaborn as sns\n",
    "\n",
    "df = pd.read_csv('./data/pima-indians-diabetes3.csv')\n",
    "df.head()\n",
    "\n",
    "df['diabetes'].value_counts()\n",
    "df.describe()\n",
    "df.corr()\n",
    "\n",
    "colormap = plt.cm.gist_heat # 그래프의 색상구성을 정한다\n",
    "plt.figure(figsize=(12,12)) # 그래프의 크기를 정한다\n",
    "# sns.heatmap(df.corr(), linewidths=0.1, vmax=0.5, cmap=colormap, linecolor='white', annot=True)\n",
    "# plt.show()\n",
    "\n",
    "# plt.hist(x=[df.bmi[df.diabetes==0], df.bmi[df.diabetes==1]], bins=30, histtype='barstacked', label=['normal', 'diabetes'])\n",
    "# plt.legend()"
   ]
  },
  {
   "cell_type": "code",
   "execution_count": null,
   "metadata": {},
   "outputs": [],
   "source": [
    "\n",
    "## *2-0)X,y 세팅\n",
    "from tensorflow.keras.models import Sequential\n",
    "from tensorflow.keras.layers import Dense\n",
    "from tensorflow.keras.callbacks import EarlyStopping\n",
    "\n",
    "## *2-1)X,y 세팅\n",
    "X = df.iloc[:,0:8] # 세부정보를 X로\n",
    "y = df.iloc[:,8] # 당뇨병 여부를 y로\n",
    "\n",
    "## *2-2)위에서 분석한 df를 바탕으로 이제, 모델구조를 설정!\n",
    "model = Sequential()\n",
    "model.add(Dense(16, input_dim=8, activation='relu', name='Dense_1')) # input은 8개 독립변수니까 8개\n",
    "model.add(Dense(12, activation='relu', name='Dense_2'))\n",
    "model.add(Dense(8, activation='relu', name='Dense_3'))\n",
    "model.add(Dense(1, activation='sigmoid', name='Output'))\n",
    "model.summary()\n",
    "\n",
    "## *3)모델을 컴파일\n",
    "model.compile(loss='binary_crossentropy', optimizer='adam', metrics=['accuracy'])\n",
    "\n",
    "## *4)모델을 실행\n",
    "early_stopping = EarlyStopping(monitor='val_loss', patience=10) # 모델개선x일때, 조기stop\n",
    "history = model.fit(X, y, epochs=200, batch_size=20, validation_split=0.2, callbacks=[early_stopping])"
   ]
  },
  {
   "cell_type": "markdown",
   "metadata": {},
   "source": [
    "### 12장: 딥러닝 기본기 다지기3 - 다중 분류 문제 해결하기"
   ]
  },
  {
   "cell_type": "code",
   "execution_count": 84,
   "metadata": {},
   "outputs": [
    {
     "data": {
      "text/html": [
       "<div>\n",
       "<style scoped>\n",
       "    .dataframe tbody tr th:only-of-type {\n",
       "        vertical-align: middle;\n",
       "    }\n",
       "\n",
       "    .dataframe tbody tr th {\n",
       "        vertical-align: top;\n",
       "    }\n",
       "\n",
       "    .dataframe thead th {\n",
       "        text-align: right;\n",
       "    }\n",
       "</style>\n",
       "<table border=\"1\" class=\"dataframe\">\n",
       "  <thead>\n",
       "    <tr style=\"text-align: right;\">\n",
       "      <th></th>\n",
       "      <th>Iris-setosa</th>\n",
       "      <th>Iris-versicolor</th>\n",
       "      <th>Iris-virginica</th>\n",
       "    </tr>\n",
       "  </thead>\n",
       "  <tbody>\n",
       "    <tr>\n",
       "      <th>0</th>\n",
       "      <td>True</td>\n",
       "      <td>False</td>\n",
       "      <td>False</td>\n",
       "    </tr>\n",
       "    <tr>\n",
       "      <th>1</th>\n",
       "      <td>True</td>\n",
       "      <td>False</td>\n",
       "      <td>False</td>\n",
       "    </tr>\n",
       "    <tr>\n",
       "      <th>2</th>\n",
       "      <td>True</td>\n",
       "      <td>False</td>\n",
       "      <td>False</td>\n",
       "    </tr>\n",
       "    <tr>\n",
       "      <th>3</th>\n",
       "      <td>True</td>\n",
       "      <td>False</td>\n",
       "      <td>False</td>\n",
       "    </tr>\n",
       "    <tr>\n",
       "      <th>4</th>\n",
       "      <td>True</td>\n",
       "      <td>False</td>\n",
       "      <td>False</td>\n",
       "    </tr>\n",
       "    <tr>\n",
       "      <th>...</th>\n",
       "      <td>...</td>\n",
       "      <td>...</td>\n",
       "      <td>...</td>\n",
       "    </tr>\n",
       "    <tr>\n",
       "      <th>145</th>\n",
       "      <td>False</td>\n",
       "      <td>False</td>\n",
       "      <td>True</td>\n",
       "    </tr>\n",
       "    <tr>\n",
       "      <th>146</th>\n",
       "      <td>False</td>\n",
       "      <td>False</td>\n",
       "      <td>True</td>\n",
       "    </tr>\n",
       "    <tr>\n",
       "      <th>147</th>\n",
       "      <td>False</td>\n",
       "      <td>False</td>\n",
       "      <td>True</td>\n",
       "    </tr>\n",
       "    <tr>\n",
       "      <th>148</th>\n",
       "      <td>False</td>\n",
       "      <td>False</td>\n",
       "      <td>True</td>\n",
       "    </tr>\n",
       "    <tr>\n",
       "      <th>149</th>\n",
       "      <td>False</td>\n",
       "      <td>False</td>\n",
       "      <td>True</td>\n",
       "    </tr>\n",
       "  </tbody>\n",
       "</table>\n",
       "<p>150 rows × 3 columns</p>\n",
       "</div>"
      ],
      "text/plain": [
       "     Iris-setosa  Iris-versicolor  Iris-virginica\n",
       "0           True            False           False\n",
       "1           True            False           False\n",
       "2           True            False           False\n",
       "3           True            False           False\n",
       "4           True            False           False\n",
       "..           ...              ...             ...\n",
       "145        False            False            True\n",
       "146        False            False            True\n",
       "147        False            False            True\n",
       "148        False            False            True\n",
       "149        False            False            True\n",
       "\n",
       "[150 rows x 3 columns]"
      ]
     },
     "execution_count": 84,
     "metadata": {},
     "output_type": "execute_result"
    }
   ],
   "source": [
    "# 1.아이리스 품종 예측\n",
    "\n",
    "## 아이리스 데이터 불러오기\n",
    "df = pd.read_csv('./data/iris3.csv')\n",
    "df.head()\n",
    "# sns.pairplot(df, hue='species') # 상관도 그래프\n",
    "# plt.show() \n",
    "\n",
    "## 속성을 X, 클래스를 y로 저장\n",
    "X = df.iloc[:, 0:4] # print(X[0:5])\n",
    "y = df.iloc[:, 4] # print(y[0:5])\n",
    "\n",
    "## 원-핫 인코딩 처리를 한다\n",
    "y = pd.get_dummies(y)\n",
    "\n",
    "## 모델 설정\n",
    "model = Sequential()\n",
    "model.add(Dense(12, input_dim=4, activation='relu'))\n",
    "model.add(Dense(8, activation='relu'))\n",
    "model.add(Dense(3, activation='softmax')) # 3개 중에 골라야 하므로 softmax\n",
    "model.summary()\n",
    "\n",
    "## 모델 컴파일\n",
    "model.compile(loss='categorical_crossentropy', optimizer='adam', metrics=['accuracy'])\n",
    "\n",
    "## 모델 실행\n",
    "history = model.fit(X, y, epochs=50, batch_size=5)"
   ]
  },
  {
   "cell_type": "code",
   "execution_count": null,
   "metadata": {},
   "outputs": [],
   "source": [
    "# 2.펭귄 품종 예측 - 총3가지 품종이 있음(df['species'].nunique())\n",
    "\n",
    "df = pd.read_csv('./data/penguins.csv')\n",
    "\n",
    "## 1)전처리\n",
    "### (1)수치형 데이터의 null 값을 해당 열의 평균값으로 대체\n",
    "df.fillna(df.mean(numeric_only=True), inplace=True)\n",
    "\n",
    "### (2)Sex열을 0, 1로 대체\n",
    "df['sex'].fillna(df['sex'].mode()[0], inplace=True) # 'sex' 열의 결측값을 최빈값으로 대체\n",
    "df['sex'] = df['sex'].map({'MALE': 0, 'FEMALE': 1}) # 'sex' 열의 값을 'Male'은 0으로, 'Female'은 1로 변환\n",
    "\n",
    "## 2)속성을 X, 클래스를 y로 저장 (첫열에 species가 있음!)\n",
    "X = df.iloc[:, 1:7] # print(X[0:5])\n",
    "y = df.iloc[:, 0:1] # print(X[0:5])\n",
    "\n",
    "## 3)원-핫 인코딩 처리를 한다 - 숫자 아닌 것 전부 & 'island'열 원-핫 인코딩\n",
    "y = pd.get_dummies(y)\n",
    "X = pd.get_dummies(X, columns=['island'], drop_first=False) # drop_first=False로 모든 범주를 인코딩\n",
    "\n",
    "## 4)모델 설정\n",
    "model = Sequential()\n",
    "model.add(Dense(12, input_dim=X.shape[1], activation='relu'))\n",
    "model.add(Dense(8, activation='relu'))\n",
    "model.add(Dense(3, activation='softmax')) # 3개 중에 골라야 하므로 softmax\n",
    "model.summary()\n",
    "\n",
    "## 5)모델 컴파일\n",
    "model.compile(loss='categorical_crossentropy', optimizer='adam', metrics=['accuracy'])\n",
    "\n",
    "## 6)모델 실행\n",
    "history = model.fit(X, y, epochs=50, batch_size=5)\n"
   ]
  },
  {
   "cell_type": "markdown",
   "metadata": {},
   "source": [
    "### 13장: 딥러닝 기본기 다지기4 - 모델 성능 검증하기"
   ]
  },
  {
   "cell_type": "code",
   "execution_count": null,
   "metadata": {},
   "outputs": [],
   "source": [
    "from sklearn.model_selection import train_test_split\n",
    "\n",
    "# 광물 데이터\n",
    "df = pd.read_csv('./data/sonar3.csv', header=None)\n",
    "\n",
    "# 음파 관련 속성을 X로, 광물의 종류를 y로 저장\n",
    "X = df.iloc[:,0:60]\n",
    "y = df.iloc[:,60]\n",
    "\n",
    "# 학습셋과 테스트셋을 구분\n",
    "X_train, X_test, y_train, y_test = train_test_split(X, y, test_size=0.3, shuffle=True)\n",
    "\n",
    "# 모델 설정\n",
    "model = Sequential()\n",
    "model.add(Dense(24, input_dim=60, activation='relu'))\n",
    "model.add(Dense(10, activation='relu'))\n",
    "model.add(Dense(1, activation='sigmoid')) \n",
    "\n",
    "# 모델을 컴파일\n",
    "model.compile(loss='binary_crossentropy', optimizer='adam', metrics=['accuracy'])\n",
    "\n",
    "# 모델을 실행=fit (실행하고 컴파일 다름 ㅇㅇ)\n",
    "history = model.fit(X_train, y_train, epochs=200, batch_size=10)\n",
    "\n",
    "# 모델을 테스트셋에 적용해 정확도를 구함\n",
    "score = model.evaluate(X_test,y_test)\n",
    "print('Test accuracy:', score[1])\n",
    "\n"
   ]
  },
  {
   "cell_type": "code",
   "execution_count": 96,
   "metadata": {},
   "outputs": [
    {
     "name": "stderr",
     "output_type": "stream",
     "text": [
      "WARNING:absl:You are saving your model as an HDF5 file via `model.save()` or `keras.saving.save_model(model)`. This file format is considered legacy. We recommend using instead the native Keras format, e.g. `model.save('my_model.keras')` or `keras.saving.save_model(model, 'my_model.keras')`. \n",
      "WARNING:absl:Compiled the loaded model, but the compiled metrics have yet to be built. `model.compile_metrics` will be empty until you train or evaluate the model.\n"
     ]
    },
    {
     "name": "stdout",
     "output_type": "stream",
     "text": [
      "\u001b[1m2/2\u001b[0m \u001b[32m━━━━━━━━━━━━━━━━━━━━\u001b[0m\u001b[37m\u001b[0m \u001b[1m0s\u001b[0m 4ms/step - accuracy: 0.8211 - loss: 0.5558  \n",
      "Test accuracy:  0.8253968358039856\n"
     ]
    }
   ],
   "source": [
    "# 4)모델 저장과 재사용\n",
    "from tensorflow.keras.models import load_model\n",
    "\n",
    "# 모델 이름과 저장할 위치를 함께 저장\n",
    "model.save('./data/model/my_model.hdf5')\n",
    "\n",
    "# 모델 삭제\n",
    "del model\n",
    "\n",
    "# 모델이 저장된 위치와 이름 write\n",
    "model = load_model('./data/model/my_model.hdf5')\n",
    "\n",
    "# 불러온 모델을 테스트셋에 적용해 정확도를 구함\n",
    "score = model.evaluate(X_test, y_test)\n",
    "print('Test accuracy: ', score[1])"
   ]
  },
  {
   "cell_type": "code",
   "execution_count": 97,
   "metadata": {},
   "outputs": [
    {
     "name": "stderr",
     "output_type": "stream",
     "text": [
      "C:\\Users\\A\\AppData\\Local\\Packages\\PythonSoftwareFoundation.Python.3.11_qbz5n2kfra8p0\\LocalCache\\local-packages\\Python311\\site-packages\\keras\\src\\layers\\core\\dense.py:87: UserWarning: Do not pass an `input_shape`/`input_dim` argument to a layer. When using Sequential models, prefer using an `Input(shape)` object as the first layer in the model instead.\n",
      "  super().__init__(activity_regularizer=activity_regularizer, **kwargs)\n"
     ]
    },
    {
     "name": "stdout",
     "output_type": "stream",
     "text": [
      "\u001b[1m2/2\u001b[0m \u001b[32m━━━━━━━━━━━━━━━━━━━━\u001b[0m\u001b[37m\u001b[0m \u001b[1m0s\u001b[0m 3ms/step - accuracy: 0.8264 - loss: 0.6189  \n"
     ]
    },
    {
     "name": "stderr",
     "output_type": "stream",
     "text": [
      "C:\\Users\\A\\AppData\\Local\\Packages\\PythonSoftwareFoundation.Python.3.11_qbz5n2kfra8p0\\LocalCache\\local-packages\\Python311\\site-packages\\keras\\src\\layers\\core\\dense.py:87: UserWarning: Do not pass an `input_shape`/`input_dim` argument to a layer. When using Sequential models, prefer using an `Input(shape)` object as the first layer in the model instead.\n",
      "  super().__init__(activity_regularizer=activity_regularizer, **kwargs)\n"
     ]
    },
    {
     "name": "stdout",
     "output_type": "stream",
     "text": [
      "WARNING:tensorflow:5 out of the last 743 calls to <function TensorFlowTrainer.make_test_function.<locals>.one_step_on_iterator at 0x0000011FD3E4B060> triggered tf.function retracing. Tracing is expensive and the excessive number of tracings could be due to (1) creating @tf.function repeatedly in a loop, (2) passing tensors with different shapes, (3) passing Python objects instead of tensors. For (1), please define your @tf.function outside of the loop. For (2), @tf.function has reduce_retracing=True option that can avoid unnecessary retracing. For (3), please refer to https://www.tensorflow.org/guide/function#controlling_retracing and https://www.tensorflow.org/api_docs/python/tf/function for  more details.\n"
     ]
    },
    {
     "name": "stderr",
     "output_type": "stream",
     "text": [
      "WARNING:tensorflow:5 out of the last 743 calls to <function TensorFlowTrainer.make_test_function.<locals>.one_step_on_iterator at 0x0000011FD3E4B060> triggered tf.function retracing. Tracing is expensive and the excessive number of tracings could be due to (1) creating @tf.function repeatedly in a loop, (2) passing tensors with different shapes, (3) passing Python objects instead of tensors. For (1), please define your @tf.function outside of the loop. For (2), @tf.function has reduce_retracing=True option that can avoid unnecessary retracing. For (3), please refer to https://www.tensorflow.org/guide/function#controlling_retracing and https://www.tensorflow.org/api_docs/python/tf/function for  more details.\n"
     ]
    },
    {
     "name": "stdout",
     "output_type": "stream",
     "text": [
      "\u001b[1m2/2\u001b[0m \u001b[32m━━━━━━━━━━━━━━━━━━━━\u001b[0m\u001b[37m\u001b[0m \u001b[1m0s\u001b[0m 4ms/step - accuracy: 0.7634 - loss: 0.8937  \n"
     ]
    },
    {
     "name": "stderr",
     "output_type": "stream",
     "text": [
      "C:\\Users\\A\\AppData\\Local\\Packages\\PythonSoftwareFoundation.Python.3.11_qbz5n2kfra8p0\\LocalCache\\local-packages\\Python311\\site-packages\\keras\\src\\layers\\core\\dense.py:87: UserWarning: Do not pass an `input_shape`/`input_dim` argument to a layer. When using Sequential models, prefer using an `Input(shape)` object as the first layer in the model instead.\n",
      "  super().__init__(activity_regularizer=activity_regularizer, **kwargs)\n"
     ]
    },
    {
     "name": "stdout",
     "output_type": "stream",
     "text": [
      "WARNING:tensorflow:6 out of the last 745 calls to <function TensorFlowTrainer.make_test_function.<locals>.one_step_on_iterator at 0x0000011FD4EB6C00> triggered tf.function retracing. Tracing is expensive and the excessive number of tracings could be due to (1) creating @tf.function repeatedly in a loop, (2) passing tensors with different shapes, (3) passing Python objects instead of tensors. For (1), please define your @tf.function outside of the loop. For (2), @tf.function has reduce_retracing=True option that can avoid unnecessary retracing. For (3), please refer to https://www.tensorflow.org/guide/function#controlling_retracing and https://www.tensorflow.org/api_docs/python/tf/function for  more details.\n"
     ]
    },
    {
     "name": "stderr",
     "output_type": "stream",
     "text": [
      "WARNING:tensorflow:6 out of the last 745 calls to <function TensorFlowTrainer.make_test_function.<locals>.one_step_on_iterator at 0x0000011FD4EB6C00> triggered tf.function retracing. Tracing is expensive and the excessive number of tracings could be due to (1) creating @tf.function repeatedly in a loop, (2) passing tensors with different shapes, (3) passing Python objects instead of tensors. For (1), please define your @tf.function outside of the loop. For (2), @tf.function has reduce_retracing=True option that can avoid unnecessary retracing. For (3), please refer to https://www.tensorflow.org/guide/function#controlling_retracing and https://www.tensorflow.org/api_docs/python/tf/function for  more details.\n"
     ]
    },
    {
     "name": "stdout",
     "output_type": "stream",
     "text": [
      "\u001b[1m2/2\u001b[0m \u001b[32m━━━━━━━━━━━━━━━━━━━━\u001b[0m\u001b[37m\u001b[0m \u001b[1m0s\u001b[0m 4ms/step - accuracy: 0.7579 - loss: 0.6859  \n"
     ]
    },
    {
     "name": "stderr",
     "output_type": "stream",
     "text": [
      "C:\\Users\\A\\AppData\\Local\\Packages\\PythonSoftwareFoundation.Python.3.11_qbz5n2kfra8p0\\LocalCache\\local-packages\\Python311\\site-packages\\keras\\src\\layers\\core\\dense.py:87: UserWarning: Do not pass an `input_shape`/`input_dim` argument to a layer. When using Sequential models, prefer using an `Input(shape)` object as the first layer in the model instead.\n",
      "  super().__init__(activity_regularizer=activity_regularizer, **kwargs)\n"
     ]
    },
    {
     "name": "stdout",
     "output_type": "stream",
     "text": [
      "\u001b[1m2/2\u001b[0m \u001b[32m━━━━━━━━━━━━━━━━━━━━\u001b[0m\u001b[37m\u001b[0m \u001b[1m0s\u001b[0m 4ms/step - accuracy: 0.8016 - loss: 0.5071  \n"
     ]
    },
    {
     "name": "stderr",
     "output_type": "stream",
     "text": [
      "C:\\Users\\A\\AppData\\Local\\Packages\\PythonSoftwareFoundation.Python.3.11_qbz5n2kfra8p0\\LocalCache\\local-packages\\Python311\\site-packages\\keras\\src\\layers\\core\\dense.py:87: UserWarning: Do not pass an `input_shape`/`input_dim` argument to a layer. When using Sequential models, prefer using an `Input(shape)` object as the first layer in the model instead.\n",
      "  super().__init__(activity_regularizer=activity_regularizer, **kwargs)\n"
     ]
    },
    {
     "name": "stdout",
     "output_type": "stream",
     "text": [
      "\u001b[1m2/2\u001b[0m \u001b[32m━━━━━━━━━━━━━━━━━━━━\u001b[0m\u001b[37m\u001b[0m \u001b[1m0s\u001b[0m 3ms/step - accuracy: 0.7970 - loss: 1.4528  \n",
      "정확도:  [0.8333333134651184, 0.7857142686843872, 0.761904776096344, 0.7804877758026123, 0.8048780560493469]\n",
      "정확도 평균:  0.7932636380195618\n"
     ]
    }
   ],
   "source": [
    "# 5)k겹 교차 검증\n",
    "from sklearn.model_selection import KFold\n",
    "from sklearn.metrics import accuracy_score\n",
    "\n",
    "# 광물 데이터\n",
    "df = pd.read_csv('./data/sonar3.csv', header=None)\n",
    "\n",
    "# 음파 관련 속성을 X로, 광물의 종류를 y로 저장\n",
    "X = df.iloc[:,0:60]\n",
    "y = df.iloc[:,60]\n",
    "\n",
    "# 몇 겹으로 나눌 것인가?\n",
    "k = 5\n",
    "\n",
    "# KFold함수를 불러온다. 분할하기 전에 샘플이 치우치지 않도록 섞어 준다\n",
    "kfold = KFold(n_splits=k, shuffle=True)\n",
    "\n",
    "# 각 테스트(총5개)마다의 정확도를 구하고, 평균값 구할거니까 리스트!\n",
    "acc_score = []\n",
    "\n",
    "def model_fn():\n",
    "    model=  Sequential() # 딥러닝 모델의 구조를 시작합니다\n",
    "    model.add(Dense(24, input_dim=60, activation='relu'))\n",
    "    model.add(Dense(10, activation='relu'))\n",
    "    model.add(Dense(1, activation='sigmoid'))\n",
    "    return model\n",
    "\n",
    "# k겹 교차 검증을 이용해 k번의 학습을 실행한다\n",
    "# for문에 의해 k번 반복\n",
    "# split()에 의해 k개의 학습셋, 테스트셋으로 분리\n",
    "for train_index, test_index in kfold.split(X):\n",
    "    X_train, X_test = X.iloc[train_index, :], X.iloc[test_index, :]\n",
    "    y_train, y_test = y.iloc[train_index], y.iloc[test_index]\n",
    "\n",
    "    model = model_fn()\n",
    "    model.compile(loss='binary_crossentropy', optimizer='adam', metrics=['accuracy'])\n",
    "    history = model.fit(X_train, y_train, epochs=200, batch_size=10, verbose=0) # verbose=0은 과정 생략한다는 뜻\n",
    "\n",
    "    accuracy = model.evaluate(X_test, y_test)[1] # 정확도를 구함\n",
    "    acc_score.append(accuracy)\n",
    "\n",
    "# k번 실시된 정확도의 평균을 구함\n",
    "avg_acc_score = sum(acc_score) / k\n",
    "\n",
    "# 결과를 출력\n",
    "print('정확도: ', acc_score)\n",
    "print('정확도 평균: ', avg_acc_score)"
   ]
  },
  {
   "cell_type": "code",
   "execution_count": null,
   "metadata": {},
   "outputs": [],
   "source": []
  }
 ],
 "metadata": {
  "kernelspec": {
   "display_name": "Python 3",
   "language": "python",
   "name": "python3"
  },
  "language_info": {
   "codemirror_mode": {
    "name": "ipython",
    "version": 3
   },
   "file_extension": ".py",
   "mimetype": "text/x-python",
   "name": "python",
   "nbconvert_exporter": "python",
   "pygments_lexer": "ipython3",
   "version": "3.11.9"
  }
 },
 "nbformat": 4,
 "nbformat_minor": 2
}
