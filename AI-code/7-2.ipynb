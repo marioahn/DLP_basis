{
 "cells": [
  {
   "cell_type": "markdown",
   "metadata": {},
   "source": [
    "### 7~8장: 퍼셉트론 & 다층 퍼셉트론"
   ]
  },
  {
   "cell_type": "code",
   "execution_count": 2,
   "metadata": {},
   "outputs": [
    {
     "name": "stdout",
     "output_type": "stream",
     "text": [
      "입력값: (0, 0)출력값: 0\n",
      "입력값: (1, 0)출력값: 1\n",
      "입력값: (0, 1)출력값: 1\n",
      "입력값: (1, 1)출력값: 0\n"
     ]
    }
   ],
   "source": [
    "# 코딩으로 XOR 문제 해결하기\n",
    "\n",
    "import numpy as np\n",
    "\n",
    "# 정해진 가중치와 바이어스\n",
    "w11 = np.array([-2,-2])\n",
    "w12 = np.array([2,2])\n",
    "w2 = np.array([1,1])\n",
    "b1, b2, b3 = 3, -1, -1\n",
    "\n",
    "# 0과 1 중에서 값을 출력하게 설정하는 \"퍼셉트론 함수\"\n",
    "def MLP(x, w, b):\n",
    "    y = np.sum(w*x)+b\n",
    "    if y<=0:\n",
    "        return 0\n",
    "    else:\n",
    "        return 1\n",
    "\n",
    "# 각 게이트의 정의에 따라 NAND 게이트, OR 게이트, AND 게이트, XOR 게이트함수를 만들기\n",
    "## NAND게이트\n",
    "def NAND(x1, x2):\n",
    "    return MLP(np.array([x1,x2]), w11, b1)\n",
    "\n",
    "def OR(x1,x2):\n",
    "    return MLP(np.array([x1,x2]), w12, b2)\n",
    "\n",
    "def AND(x1,x2):\n",
    "    return MLP(np.array([x1,x2]), w2, b3)\n",
    "\n",
    "def XOR(x1,x2):\n",
    "    return AND(NAND(x1,x2), OR(x1,x2))\n",
    "\n",
    "# 이제 x1 값과 x2 값을 번갈아 대입해 가며 최종 값을 출력해 보자\n",
    "for x in [(0,0), (1,0), (0,1), (1,1)]:\n",
    "    y = XOR(x[0], x[1])\n",
    "    print(\"입력값: \" + str(x) + \"출력값: \" + str(y))\n"
   ]
  },
  {
   "cell_type": "markdown",
   "metadata": {},
   "source": [
    "### 9~10장: 오차 역전파에서 딥러닝으로, 딥러닝 모델 설계하기"
   ]
  },
  {
   "cell_type": "code",
   "execution_count": 4,
   "metadata": {},
   "outputs": [
    {
     "name": "stdout",
     "output_type": "stream",
     "text": [
      "Epoch 1/5\n"
     ]
    },
    {
     "name": "stderr",
     "output_type": "stream",
     "text": [
      "C:\\Users\\A\\AppData\\Local\\Packages\\PythonSoftwareFoundation.Python.3.11_qbz5n2kfra8p0\\LocalCache\\local-packages\\Python311\\site-packages\\keras\\src\\layers\\core\\dense.py:87: UserWarning: Do not pass an `input_shape`/`input_dim` argument to a layer. When using Sequential models, prefer using an `Input(shape)` object as the first layer in the model instead.\n",
      "  super().__init__(activity_regularizer=activity_regularizer, **kwargs)\n"
     ]
    },
    {
     "name": "stdout",
     "output_type": "stream",
     "text": [
      "\u001b[1m30/30\u001b[0m \u001b[32m━━━━━━━━━━━━━━━━━━━━\u001b[0m\u001b[37m\u001b[0m \u001b[1m1s\u001b[0m 1ms/step - accuracy: 0.1705 - loss: 7.7696    \n",
      "Epoch 2/5\n",
      "\u001b[1m30/30\u001b[0m \u001b[32m━━━━━━━━━━━━━━━━━━━━\u001b[0m\u001b[37m\u001b[0m \u001b[1m0s\u001b[0m 893us/step - accuracy: 0.8324 - loss: 0.6075\n",
      "Epoch 3/5\n",
      "\u001b[1m30/30\u001b[0m \u001b[32m━━━━━━━━━━━━━━━━━━━━\u001b[0m\u001b[37m\u001b[0m \u001b[1m0s\u001b[0m 958us/step - accuracy: 0.8537 - loss: 0.4637\n",
      "Epoch 4/5\n",
      "\u001b[1m30/30\u001b[0m \u001b[32m━━━━━━━━━━━━━━━━━━━━\u001b[0m\u001b[37m\u001b[0m \u001b[1m0s\u001b[0m 874us/step - accuracy: 0.8524 - loss: 0.4344\n",
      "Epoch 5/5\n",
      "\u001b[1m30/30\u001b[0m \u001b[32m━━━━━━━━━━━━━━━━━━━━\u001b[0m\u001b[37m\u001b[0m \u001b[1m0s\u001b[0m 936us/step - accuracy: 0.8545 - loss: 0.4251\n"
     ]
    }
   ],
   "source": [
    "# \"폐암 수술 환자의 생존율 예측하기\"의 딥러닝 기초 코드\n",
    "from tensorflow.keras.models import Sequential\n",
    "from tensorflow.keras.layers import Dense\n",
    "import numpy as np\n",
    "\n",
    "# 준비된 수술 환자 데이터를 load\n",
    "Data_set = np.loadtxt(\"./data/ThoraricSurgery3.csv\", delimiter=\",\")\n",
    "X = Data_set[:,0:16] # 환자의 진찰기록을 X로 지정\n",
    "y = Data_set[:,16] # 수술 1년 후 사망/생존 여부를 y로 지정\n",
    "\n",
    "# 딥러닝 모델의 구조를 결정\n",
    "model = Sequential()\n",
    "model.add(Dense(30, input_dim=16, activation=\"relu\"))\n",
    "model.add(Dense(1, activation=\"sigmoid\"))\n",
    "\n",
    "# 딥러닝 모델을 실행\n",
    "model.compile(loss=\"binary_crossentropy\", optimizer=\"adam\", metrics=[\"accuracy\"])\n",
    "history = model.fit(X, y, epochs=5, batch_size=16)"
   ]
  },
  {
   "cell_type": "code",
   "execution_count": null,
   "metadata": {},
   "outputs": [],
   "source": []
  },
  {
   "cell_type": "code",
   "execution_count": null,
   "metadata": {},
   "outputs": [],
   "source": []
  },
  {
   "cell_type": "code",
   "execution_count": null,
   "metadata": {},
   "outputs": [],
   "source": []
  },
  {
   "cell_type": "code",
   "execution_count": null,
   "metadata": {},
   "outputs": [],
   "source": []
  }
 ],
 "metadata": {
  "kernelspec": {
   "display_name": "Python 3",
   "language": "python",
   "name": "python3"
  },
  "language_info": {
   "codemirror_mode": {
    "name": "ipython",
    "version": 3
   },
   "file_extension": ".py",
   "mimetype": "text/x-python",
   "name": "python",
   "nbconvert_exporter": "python",
   "pygments_lexer": "ipython3",
   "version": "3.11.9"
  }
 },
 "nbformat": 4,
 "nbformat_minor": 2
}
