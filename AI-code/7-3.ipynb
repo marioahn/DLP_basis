{
 "cells": [
  {
   "cell_type": "markdown",
   "metadata": {},
   "source": [
    "### 14장 모델 성능 향상시키기"
   ]
  },
  {
   "cell_type": "code",
   "execution_count": null,
   "metadata": {},
   "outputs": [],
   "source": [
    "import pandas as pd\n",
    "from tensorflow.keras.models import Sequential\n",
    "from tensorflow.keras.layers import Dense\n",
    "from sklearn.model_selection import train_test_split"
   ]
  },
  {
   "cell_type": "code",
   "execution_count": null,
   "metadata": {},
   "outputs": [],
   "source": [
    "from tensorflow.keras.callbacks import ModelCheckpoint, EarlyStopping\n",
    "\n",
    "# 와인데이터\n",
    "df = pd.read_csv('./data/wine.csv', header=None)\n",
    "X = df.iloc[:,0:12]\n",
    "y = df.iloc[:,12]\n",
    "\n",
    "# 학습셋, 테스트셋 split\n",
    "X_train, X_test, y_train, y_test = train_test_split(X, y, test_size=0.2, shuffle=True)\n",
    "\n",
    "# 모델 구조 설정\n",
    "model = Sequential()\n",
    "model.add(Dense(30, input_dim=12, activation='relu'))\n",
    "model.add(Dense(12, activation='relu'))\n",
    "model.add(Dense(8, activation='relu'))\n",
    "model.add(Dense(1, activation='sigmoid'))\n",
    "model.summary()\n",
    "\n",
    "# 모델 컴파일\n",
    "model.compile(loss='binary_crossentropy', optimizer='adam', metrics=['accuracy'])\n",
    "\n",
    "early_stopping_callback = EarlyStopping(monitor='val_loss', patience=20)\n",
    "\n",
    "# 모델이 저장되는 조건 설정\n",
    "modelpath = \"./data/model/all/{epoch:02d}-{val_accuracy:.4f}.keras\"\n",
    "checkpointer = ModelCheckpoint(filepath=modelpath, monitor='val_loss', verbose=0, save_best_only=True)\n",
    "\n",
    "# 모델 실행\n",
    "history = model.fit(X_train, y_train, epochs=2000, batch_size=500, validation_split=0.25, \n",
    "                    verbose=1, callbacks=[early_stopping_callback, checkpointer]) \n",
    "\n",
    "# 테스트 결과 출력\n",
    "score = model.evaluate(X_test, y_test)\n",
    "print('Test accuracy: ', score[1])"
   ]
  },
  {
   "cell_type": "code",
   "execution_count": null,
   "metadata": {},
   "outputs": [],
   "source": [
    "import numpy as np\n",
    "import matplotlib.pyplot as plt\n",
    "\n",
    "hist_df = pd.DataFrame(history.history)\n",
    "hist_df\n",
    "\n",
    "# val_loss, loss값들 저장\n",
    "y_vloss = hist_df['val_loss']\n",
    "y_loss = hist_df['loss']\n",
    "\n",
    "x_len = np.arange(len(y_loss))\n",
    "plt.plot(x_len, y_vloss, \"o\", c='red', markersize=2, label='Testset_loss')\n",
    "plt.plot(x_len, y_loss, \"o\", c='blue', markersize=2, label='Trainset_loss')\n",
    "\n",
    "plt.legend(loc='upper right')\n",
    "plt.xlabel('epoch')\n",
    "plt.ylabel('loss')\n",
    "plt.show()\n"
   ]
  },
  {
   "cell_type": "markdown",
   "metadata": {},
   "source": [
    "### 15장 실제 데이터로 만들어 보는모델"
   ]
  },
  {
   "cell_type": "markdown",
   "metadata": {},
   "source": [
    "1)주택가격 데이터"
   ]
  },
  {
   "cell_type": "code",
   "execution_count": null,
   "metadata": {},
   "outputs": [],
   "source": [
    "df = pd.read_csv(\"./data/house_train.csv\")\n",
    "df\n",
    "\n",
    "# 각 데이터가 어떤 유형으로 되어 있는지? - 정수,실수,오브젝트형 등등 다양함\n",
    "df.dtypes\n",
    "\n",
    "# 판다스의 get_dummies()를 이용해서 카테고리형 변수를 0, 1로 이루어진 변수로 change (원핫 인코딩)\n",
    "df = pd.get_dummies(df)\n",
    "\n",
    "# 결측치 대체\n",
    "df = df.fillna(df.mean())\n",
    "\n",
    "# 데이터 사이의 상관관계 저장\n",
    "df_corr = df.corr()\n",
    "\n",
    "# *집값과 관련이 큰 것부터 순서대로 저장\n",
    "df_corr_sort = df_corr.sort_values('SalePrice', ascending=False)\n",
    "\n",
    "# 집값을 제외한 나머지 열을 저장한다\n",
    "cols_train = ['OverallQual', 'GrLivArea', 'GarageCars', 'GarageArea', 'TotalBsmtSF']\n",
    "X_train_pre = df[cols_train]\n",
    "\n",
    "# 집값을 저장\n",
    "y = df['SalePrice'].values\n",
    "\n",
    "# 학습:테스트=8:2\n",
    "X_train, X_test, y_train, y_test = train_test_split(X_train_pre, y, test_size=0.2)\n",
    "\n",
    "# 모델 구조 설정\n",
    "model = Sequential()\n",
    "model.add(Dense(10, input_dim=X_train.shape[1], activation='relu'))\n",
    "model.add(Dense(30, activation='relu'))\n",
    "model.add(Dense(40, activation='relu'))\n",
    "model.add(Dense(1))\n",
    "model.summary()\n",
    "\n",
    "# 모델을 실행\n",
    "model.compile(optimizer='adam', loss='mean_squared_error')\n",
    "\n",
    "# 20번 이상 결과가 향상되지 않으면 자동으로 중단\n",
    "early_stopping_callback = EarlyStopping(monitor='val_loss', patience=20)\n",
    "\n",
    "# 모델의 이름 설정\n",
    "modelpath = './data/model/Ch15-house.keras'\n",
    "\n",
    "# 최적화된 모델 업데이트 및 저장\n",
    "checkpointer = ModelCheckpoint(filepath=modelpath, monitor='val_loss',\n",
    "                               verbose=0, save_best_only=True)\n",
    "\n",
    "# 실행 관련 설정을 하는 부분 - 전체의 20%를 검증셋으로 설정\n",
    "history = model.fit(X_train, y_train, validation_split=0.25, epochs=2000,\n",
    "                    batch_size=32, callbacks=[early_stopping_callback, checkpointer])\n"
   ]
  },
  {
   "cell_type": "code",
   "execution_count": null,
   "metadata": {},
   "outputs": [],
   "source": [
    "# 주택 가격 예측 모델\n",
    "## 학습 결과를 시각화하기 위해 예측 값과 실제 값, 실행 번호가 들어갈 빈 리스트를 만들고,\n",
    "## 25개의 샘플로부터 얻은 결과를 채워 넣는다\n",
    "real_prices = []\n",
    "pred_prices = [] # 예상가\n",
    "X_num = []\n",
    "\n",
    "n_iter = 0\n",
    "Y_prediction = model.predict(X_test).flatten()\n",
    "\n",
    "for i in range(25):\n",
    "    real = y_test[i]\n",
    "    prediction = Y_prediction[i]\n",
    "    print('실제가격: {:.2f}, 예상가격: {:.2f}'.format(real, prediction))\n",
    "    real_prices.append(real)\n",
    "\n",
    "    pred_prices.append(prediction)\n",
    "    n_iter += 1\n",
    "    X_num.append(n_iter)\n",
    "\n",
    "# 이제 위 결과를 그래프를 통해 비교해보자\n",
    "plt.plot(X_num, pred_prices, label='predicted price')\n",
    "plt.plot(X_num, real_prices, label='real price')\n",
    "plt.legend()\n",
    "plt.show()"
   ]
  },
  {
   "cell_type": "markdown",
   "metadata": {},
   "source": [
    "2)추가데이터 - car"
   ]
  },
  {
   "cell_type": "code",
   "execution_count": null,
   "metadata": {},
   "outputs": [],
   "source": [
    "train_df = pd.read_excel('https://github.com/cranberryai/todak_todak_python/blob/master/machine_learning/regression/carprice_E1SUl6b.xlsx?raw=true', sheet_name='train')\n",
    "test_df = pd.read_excel('https://github.com/cranberryai/todak_todak_python/blob/master/machine_learning/regression/carprice_E1SUl6b.xlsx?raw=true', sheet_name='test')"
   ]
  },
  {
   "cell_type": "markdown",
   "metadata": {},
   "source": [
    "### 16장 이미지 인식의 꽃, 컨볼루션신경망(CNN)"
   ]
  },
  {
   "cell_type": "code",
   "execution_count": null,
   "metadata": {},
   "outputs": [],
   "source": [
    "from tensorflow.keras.datasets import mnist\n",
    "from tensorflow.keras.utils import to_categorical\n",
    "import matplotlib.pyplot as plt\n",
    "import sys\n",
    "\n",
    "# MNIST 데이터셋을 불러와 학습&테스트셋으로 저장\n",
    "(X_train, y_train), (X_test, y_test) = mnist.load_data()\n",
    "\n",
    "# 학습셋과 테스트셋이 각각 몇 개의 이미지로 되어 있는지 화깅ㄴ\n",
    "print('학습셋 이미지 수: %d개' % (X_train.shape[0]))\n",
    "print('테스트 이미지 수: %d개' % (X_test.shape[0]))\n",
    "\n",
    "# 첫 번째 이미지를 확인\n",
    "plt.imshow(X_train[0], cmap='Greys')\n",
    "plt.show()\n",
    "\n",
    "# 이미지가 인식되는 원리\n",
    "for x in X_train[0]:\n",
    "    for i in x:\n",
    "        sys.stdout.write('%-3s' % i)\n",
    "    sys.stdout.write('\\n')\n",
    "\n",
    "# 차원 변환 과정을 연습해보자\n",
    "X_train = X_train.reshape(X_train.shape[0], 784)\n",
    "X_train = X_train.astype('float32')\n",
    "X_train = X_train/255\n",
    "X_test = X_test.reshape(X_test.shape[0], 784).astype('float32') / 255\n",
    "\n",
    "# 클래스값을 확인\n",
    "print('class: %d' % (y_train[0]))\n",
    "\n",
    "# 바이너리화 과정을 연습해보자\n",
    "y_train = to_categorical(y_train, 10)\n",
    "y_test = to_categorical(y_test, 10)\n",
    "\n",
    "print(y_train[0])"
   ]
  },
  {
   "cell_type": "code",
   "execution_count": null,
   "metadata": {},
   "outputs": [],
   "source": [
    "from tensorflow.keras.callbacks import ModelCheckpoint, EarlyStopping\n",
    "import os\n",
    "\n",
    "# 딥러닝 모델 기본 프레임\n",
    "model = Sequential()\n",
    "model.add(Dense(512, input_dim=784, activation='relu'))\n",
    "model.add(Dense(10, activation='softmax')) # 이건 10개 output - 0~9까지 [0,0,0,0,0,1,0,0,0,0]\n",
    "model.summary()\n",
    "\n",
    "# 모델 컴파일\n",
    "model.compile(loss='categorical_crossentropy', optimizer='adam', metrics=['accuracy']) # 최적화함수는 adam\n",
    "\n",
    "# 모델 최적화를 위한 설정 구간\n",
    "modelpath = './data/MNIST_MLP.keras'\n",
    "checkpointer = ModelCheckpoint(filepath=modelpath, monitor='val_loss', verbose=1, save_best_only=True)\n",
    "early_stopping_callback = EarlyStopping(monitor='val_loss', patience=10)\n",
    "\n",
    "# 모델 실행\n",
    "history = model.fit(X_train, y_train, validation_split=0.25, epochs=30, batch_size=200,\n",
    "                    verbose=0, callbacks=[early_stopping_callback, checkpointer])\n",
    "\n",
    "# 테스트 정확도를 출력\n",
    "print('\\n Test Accuracy: %.4f' % (model.evaluate(X_test, y_test)[1]))\n",
    "\n",
    "# 검증셋과 학습셋의 오차를 저장 - 그래프로 보여줄거임\n",
    "y_vloss = history.history['val_loss']\n",
    "y_loss = history.history['loss']\n",
    "\n",
    "# 그래프로 표현\n",
    "x_len = np.arange(len(y_loss))\n",
    "plt.plot(x_len, y_vloss, marker='.', c='red', label='Testset_loss')\n",
    "plt.plot(x_len, y_loss, marker='.', c='blue', label='Trainset_loss')\n",
    "\n",
    "# 그래프에 그리드를 주고 레이블을 표시\n",
    "plt.legend(loc='upper right')\n",
    "plt.grid()\n",
    "plt.xlabel('epoch')\n",
    "plt.ylabel('loss')\n",
    "plt.show()"
   ]
  },
  {
   "cell_type": "code",
   "execution_count": null,
   "metadata": {},
   "outputs": [],
   "source": [
    "# 실행 결과를 그래프로 표현해 보자. 이번에는 학습셋의 정확도 대신 학습셋의 오차를 그래프로 표현\n",
    "# 학습셋의 오차는 1에서 학습셋의 정확도를 뺀 값\n",
    "# 좀 더 세밀한 변화를 볼 수 있게 학습셋의 오차와 테스트셋의 오차를 그래프 하나로 나타내겠음"
   ]
  },
  {
   "cell_type": "code",
   "execution_count": null,
   "metadata": {},
   "outputs": [],
   "source": []
  },
  {
   "cell_type": "code",
   "execution_count": null,
   "metadata": {},
   "outputs": [],
   "source": []
  },
  {
   "cell_type": "code",
   "execution_count": null,
   "metadata": {},
   "outputs": [],
   "source": []
  }
 ],
 "metadata": {
  "kernelspec": {
   "display_name": "Python 3",
   "language": "python",
   "name": "python3"
  },
  "language_info": {
   "codemirror_mode": {
    "name": "ipython",
    "version": 3
   },
   "file_extension": ".py",
   "mimetype": "text/x-python",
   "name": "python",
   "nbconvert_exporter": "python",
   "pygments_lexer": "ipython3",
   "version": "3.11.9"
  }
 },
 "nbformat": 4,
 "nbformat_minor": 2
}
