{
 "cells": [
  {
   "cell_type": "markdown",
   "metadata": {},
   "source": [
    "### 외국어 문장 판별하기"
   ]
  },
  {
   "cell_type": "markdown",
   "metadata": {},
   "source": [
    "    1)언어 판별 프로그램"
   ]
  },
  {
   "cell_type": "code",
   "execution_count": 8,
   "metadata": {},
   "outputs": [
    {
     "name": "stdout",
     "output_type": "stream",
     "text": [
      "정답률= 1.0\n",
      "리포트=\n",
      "              precision    recall  f1-score   support\n",
      "\n",
      "          en       1.00      1.00      1.00         2\n",
      "          fr       1.00      1.00      1.00         2\n",
      "          id       1.00      1.00      1.00         2\n",
      "          tl       1.00      1.00      1.00         2\n",
      "\n",
      "    accuracy                           1.00         8\n",
      "   macro avg       1.00      1.00      1.00         8\n",
      "weighted avg       1.00      1.00      1.00         8\n",
      "\n"
     ]
    }
   ],
   "source": [
    "from sklearn import svm, metrics\n",
    "import glob, os.path, re, json\n",
    "\n",
    "# 텍스트를 읽어 들이고 출현 빈도 조사하기\n",
    "def check_freq(fname):\n",
    "    name = os.path.basename(fname)\n",
    "    lang = re.match(r'^[a-z]{2,}', name).group()\n",
    "    with open(fname, 'r', encoding='utf-8') as f:\n",
    "        text = f.read()\n",
    "    text = text.lower() # 소문자 변환\n",
    "    \n",
    "    # 숫자 세기 변수(cnt) 초기화\n",
    "    cnt = [0 for n in range(0, 26)]\n",
    "    code_a = ord('a')\n",
    "    code_z = ord('z')\n",
    "    \n",
    "    # 알파벳 출현 횟수 구하기\n",
    "    for ch in text:\n",
    "        n = ord(ch)\n",
    "        if code_a <= n <= code_z: # a~z사이에 있을 때\n",
    "            cnt[n-code_a] += 1\n",
    "    \n",
    "    # 정규화하기\n",
    "    total = sum(cnt)\n",
    "    freq = list(map(lambda n: n/total, cnt))\n",
    "    return (freq, lang)\n",
    "\n",
    "# 2)각 파일 처리하기\n",
    "def load_files(path):\n",
    "    freqs, labels = [], []\n",
    "    file_list = glob.glob(path)\n",
    "    for fname in file_list:\n",
    "        r = check_freq(fname)\n",
    "        freqs.append(r[0])\n",
    "        labels.append(r[1])\n",
    "    return {\"freqs\":freqs, \"labels\":labels}\n",
    "\n",
    "data = load_files('./train/*.txt')\n",
    "test = load_files('./test/*.txt')\n",
    "\n",
    "# 이후를 대비해서 JSON으로 결과 저장하기\n",
    "with open('./freq.json', 'w', encoding='utf-8') as fp:\n",
    "    json.dump([data, test], fp)\n",
    "\n",
    "# 학습하기\n",
    "clf = svm.SVC()\n",
    "clf.fit(data['freqs'], data['labels'])\n",
    "\n",
    "# 예측하기\n",
    "predict = clf.predict(test['freqs'])\n",
    "\n",
    "# 결과 테스트하기\n",
    "ac_score = metrics.accuracy_score(test['labels'], predict)\n",
    "cl_report = metrics.classification_report(test['labels'], predict)\n",
    "print('정답률=', ac_score)\n",
    "print('리포트=')\n",
    "print(cl_report)"
   ]
  },
  {
   "cell_type": "code",
   "execution_count": null,
   "metadata": {},
   "outputs": [],
   "source": []
  },
  {
   "cell_type": "code",
   "execution_count": null,
   "metadata": {},
   "outputs": [],
   "source": []
  },
  {
   "cell_type": "code",
   "execution_count": null,
   "metadata": {},
   "outputs": [],
   "source": []
  }
 ],
 "metadata": {
  "kernelspec": {
   "display_name": "myvenv",
   "language": "python",
   "name": "python3"
  },
  "language_info": {
   "codemirror_mode": {
    "name": "ipython",
    "version": 3
   },
   "file_extension": ".py",
   "mimetype": "text/x-python",
   "name": "python",
   "nbconvert_exporter": "python",
   "pygments_lexer": "ipython3",
   "version": "3.10.4"
  }
 },
 "nbformat": 4,
 "nbformat_minor": 2
}
